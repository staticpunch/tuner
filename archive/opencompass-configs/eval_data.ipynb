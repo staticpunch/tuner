{
 "cells": [
  {
   "cell_type": "code",
   "execution_count": 4,
   "id": "9f4e5b92-e83d-459b-801d-4eef23cb44b7",
   "metadata": {},
   "outputs": [],
   "source": [
    "from mmengine.config import read_base\n",
    "\n",
    "with read_base():\n",
    "    # Read the required dataset configurations directly from the preset dataset configurations\n",
    "    from opencompass.configs.datasets.mmlu.mmlu_gen import mmlu_datasets\n",
    "    from opencompass.configs.datasets.ARC_e.ARC_e_gen import ARC_e_datasets\n",
    "    from opencompass.configs.datasets.ARC_c.ARC_c_gen import ARC_c_datasets"
   ]
  },
  {
   "cell_type": "code",
   "execution_count": 7,
   "id": "a87e4429-46aa-4e8e-b6ca-ac22ab0b5c5d",
   "metadata": {},
   "outputs": [
    {
     "data": {
      "text/plain": [
       "{'round': [{'role': 'HUMAN',\n",
       "   'prompt': 'Question: {question}\\nA. {textA}\\nB. {textB}\\nC. {textC}\\nD. {textD}\\nAnswer:'}]}"
      ]
     },
     "execution_count": 7,
     "metadata": {},
     "output_type": "execute_result"
    }
   ],
   "source": [
    "ARC_e_datasets[0][\"infer_cfg\"][\"prompt_template\"][\"template\"]"
   ]
  },
  {
   "cell_type": "code",
   "execution_count": null,
   "id": "b7e85f63-b119-4859-ade1-4b405813923d",
   "metadata": {},
   "outputs": [],
   "source": [
    "\"Answer the following multiple choice question with your reasoning. Conclude your answer with 'The correct answer is: A or B or C or D.' Question: {question}\\nA. {textA}\\nB. {textB}\\nC. {textC}\\nD. {textD}\\nAnswer:'\""
   ]
  }
 ],
 "metadata": {
  "kernelspec": {
   "display_name": "Python 3 (ipykernel)",
   "language": "python",
   "name": "python3"
  },
  "language_info": {
   "codemirror_mode": {
    "name": "ipython",
    "version": 3
   },
   "file_extension": ".py",
   "mimetype": "text/x-python",
   "name": "python",
   "nbconvert_exporter": "python",
   "pygments_lexer": "ipython3",
   "version": "3.10.16"
  }
 },
 "nbformat": 4,
 "nbformat_minor": 5
}
